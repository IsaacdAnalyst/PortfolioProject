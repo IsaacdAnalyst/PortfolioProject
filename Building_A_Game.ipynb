{
  "nbformat": 4,
  "nbformat_minor": 0,
  "metadata": {
    "colab": {
      "provenance": [],
      "authorship_tag": "ABX9TyNlcAuZRUD+WuMEYnkahZ4y",
      "include_colab_link": true
    },
    "kernelspec": {
      "name": "python3",
      "display_name": "Python 3"
    },
    "language_info": {
      "name": "python"
    }
  },
  "cells": [
    {
      "cell_type": "markdown",
      "metadata": {
        "id": "view-in-github",
        "colab_type": "text"
      },
      "source": [
        "<a href=\"https://colab.research.google.com/github/IsaacdAnalyst/PortfolioProject/blob/main/Building_A_Game.ipynb\" target=\"_parent\"><img src=\"https://colab.research.google.com/assets/colab-badge.svg\" alt=\"Open In Colab\"/></a>"
      ]
    },
    {
      "cell_type": "markdown",
      "source": [
        "# **Rock,Paper,Scissor Game**"
      ],
      "metadata": {
        "id": "r21p7C49AoNS"
      }
    },
    {
      "cell_type": "code",
      "execution_count": null,
      "metadata": {
        "colab": {
          "base_uri": "https://localhost:8080/"
        },
        "id": "1Bwjvyq_AjUQ",
        "outputId": "0d60f14f-0736-4663-d3ef-31268526a48b"
      },
      "outputs": [
        {
          "output_type": "stream",
          "name": "stdout",
          "text": [
            "ROCK, PAPER, SCISSORS\n",
            "0 Wins, 0 Losses, 0 Ties\n",
            "Enter your move: (r)ock (p)aper (s)cissors or (q)uit\n"
          ]
        }
      ],
      "source": [
        "import random, sys\n",
        "\n",
        "print('ROCK, PAPER, SCISSORS')\n",
        "\n",
        "# These variables keep track of the number of wins, losses, and ties.\n",
        "wins = 0\n",
        "losses = 0\n",
        "ties = 0\n",
        "\n",
        "while True: # The main game loop.\n",
        "    print('%s Wins, %s Losses, %s Ties' % (wins, losses, ties))\n",
        "    while True: # The player input loop.\n",
        "        print('Enter your move: (r)ock (p)aper (s)cissors or (q)uit')\n",
        "        playerMove = input()\n",
        "        if playerMove == 'q':\n",
        "            sys.exit() # Quit the program.\n",
        "        if playerMove == 'r' or playerMove == 'p' or playerMove == 's':\n",
        "            break # Break out of the player input loop.\n",
        "        print('Type one of r, p, s, or q.')\n",
        "        \n",
        "            # Display what the player chose:\n",
        "    if playerMove == 'r':\n",
        "        print('ROCK versus...')\n",
        "    elif playerMove == 'p':\n",
        "        print('PAPER versus...')\n",
        "    elif playerMove == 's':\n",
        "        print('SCISSORS versus...')\n",
        "\n",
        "    # Display what the computer chose:\n",
        "    randomNumber = random.randint(1, 3)\n",
        "    if randomNumber == 1:\n",
        "        computerMove = 'r'\n",
        "        print('ROCK')\n",
        "    elif randomNumber == 2:\n",
        "        computerMove = 'p'\n",
        "        print('PAPER')\n",
        "    elif randomNumber == 3:\n",
        "        computerMove = 's'\n",
        "        print('SCISSORS')\n",
        "\n",
        "    # Display and record the win/loss/tie:\n",
        "    if playerMove == computerMove:\n",
        "        print('It is a tie!')\n",
        "        ties = ties + 1\n",
        "    elif playerMove == 'r' and computerMove == 's':\n",
        "        print('You win!')\n",
        "        wins = wins + 1\n",
        "    elif playerMove == 'p' and computerMove == 'r':\n",
        "        print('You win!')\n",
        "        wins = wins + 1\n",
        "    elif playerMove == 's' and computerMove == 'p':\n",
        "        print('You win!')\n",
        "        wins = wins + 1\n",
        "    elif playerMove == 'r' and computerMove == 'p':\n",
        "        print('You lose!')\n",
        "        losses = losses + 1\n",
        "    elif playerMove == 'p' and computerMove == 's':\n",
        "        print('You lose!')\n",
        "        losses = losses + 1\n",
        "    elif playerMove == 's' and computerMove == 'r':\n",
        "        print('You lose!')\n",
        "        losses = losses + 1"
      ]
    }
  ]
}