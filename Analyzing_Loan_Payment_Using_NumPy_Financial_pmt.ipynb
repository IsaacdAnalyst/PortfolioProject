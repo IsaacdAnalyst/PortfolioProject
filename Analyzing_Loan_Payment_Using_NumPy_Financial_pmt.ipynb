{
  "nbformat": 4,
  "nbformat_minor": 0,
  "metadata": {
    "colab": {
      "provenance": [],
      "authorship_tag": "ABX9TyNZVsX2yX3IGFm0DRajJHs3",
      "include_colab_link": true
    },
    "kernelspec": {
      "name": "python3",
      "display_name": "Python 3"
    },
    "language_info": {
      "name": "python"
    }
  },
  "cells": [
    {
      "cell_type": "markdown",
      "metadata": {
        "id": "view-in-github",
        "colab_type": "text"
      },
      "source": [
        "<a href=\"https://colab.research.google.com/github/IsaacdAnalyst/PortfolioProject/blob/main/Analyzing_Loan_Payment_Using_NumPy_Financial_pmt.ipynb\" target=\"_parent\"><img src=\"https://colab.research.google.com/assets/colab-badge.svg\" alt=\"Open In Colab\"/></a>"
      ]
    },
    {
      "cell_type": "code",
      "execution_count": null,
      "metadata": {
        "id": "iuQHugoKSc5_"
      },
      "outputs": [],
      "source": [
        "#Installing the numpy financial function to allow us beginning with our analysis.\n",
        "!pip install numpy-financial"
      ]
    },
    {
      "cell_type": "code",
      "source": [
        "# Importing the neccessary liberires\n",
        "import numpy_financial as npf\n",
        "#Checking the content of the numpy_financial\n",
        "[function for function in dir(npf) if not function.startswith('_')]"
      ],
      "metadata": {
        "colab": {
          "base_uri": "https://localhost:8080/"
        },
        "id": "FcGhIasiXY70",
        "outputId": "bd438ba6-70aa-4a37-93b6-89085c28261f"
      },
      "execution_count": null,
      "outputs": [
        {
          "output_type": "execute_result",
          "data": {
            "text/plain": [
              "['fv', 'ipmt', 'irr', 'mirr', 'nper', 'npv', 'pmt', 'ppmt', 'pv', 'rate']"
            ]
          },
          "metadata": {},
          "execution_count": 3
        }
      ]
    },
    {
      "cell_type": "markdown",
      "source": [
        "# Example\n",
        "\n",
        "**Mortgage Loan**\n",
        "\n",
        "Suppose you are considering a property purchase based on the following: \n",
        "\n",
        "\n",
        "*   Loan Amount : $1,000,000\n",
        "*   Interest Rate : 6%\n",
        "*   Years to pay back : 2\n",
        "\n",
        "\n",
        "\n",
        "1.   How much is the monthly payment?\n",
        "2.   How sensitive is the payments to changes to the interest rate?\n",
        "\n",
        "\n",
        "\n",
        "\n",
        "\n",
        "\n"
      ],
      "metadata": {
        "id": "22fDdy4pYHdQ"
      }
    },
    {
      "cell_type": "markdown",
      "source": [
        "**1) How much is the monthly payment?**"
      ],
      "metadata": {
        "id": "-Bvr8Jylb7qA"
      }
    },
    {
      "cell_type": "code",
      "source": [
        "#Asigning Variables\n",
        "rate = 6\n",
        "loan_amount = 1000000\n",
        "term = 2\n",
        "\n",
        "#The rates expressed here is a whole number so i'm going to have to convert that to a percentage and on top of that it's an annualized rate and \n",
        "#you pay these loans typically monthly,so i'm going to adjust the rate to reflect how often i make the payment.\n",
        " #so if we divide 1200 i'll get 1 12 of this rate expressed as a percentage\n",
        "print(f'₦{npf.pmt( rate / 1200, term* 12, -loan_amount):,.2f}')"
      ],
      "metadata": {
        "colab": {
          "base_uri": "https://localhost:8080/"
        },
        "id": "kt0p3TAzZnPd",
        "outputId": "d2d778e6-1569-4ab8-875a-e37b8eb48e58"
      },
      "execution_count": null,
      "outputs": [
        {
          "output_type": "stream",
          "name": "stdout",
          "text": [
            "₦44,320.61\n"
          ]
        }
      ]
    },
    {
      "cell_type": "markdown",
      "source": [
        "**2)  How sensitive is the payments to changes to the interest rate?**"
      ],
      "metadata": {
        "id": "LNP4Q4SscMoe"
      }
    },
    {
      "cell_type": "code",
      "source": [
        "#If the interest rate rises or falls by half a percent and i'll do that in 1 8 points interest\n",
        "rates = [(rate - .5 + x/8) /1200 for x in range(9)]\n",
        "rates\n",
        "#o if we get a half a percent lower,it would save us over a $100 a month and if it goes in the other direction it would cost us more.\n",
        "pmts = npf.pmt(rates, term * 12, -loan_amount)\n",
        "print(f\"{'  Rate' :20} {'Payment'}\")\n",
        "print(\"_\" * 27)\n",
        "for point in range(len(pmts)):\n",
        "  pmt = f'₦{pmts[point]:,.2f}'\n",
        "  print(f'{rates[point] * 12: .3%} {pmt:>21}')"
      ],
      "metadata": {
        "colab": {
          "base_uri": "https://localhost:8080/"
        },
        "id": "tUN8hkNUca7-",
        "outputId": "d5159d8c-a745-4acf-9390-48df457c2a27"
      },
      "execution_count": null,
      "outputs": [
        {
          "output_type": "stream",
          "name": "stdout",
          "text": [
            "  Rate               Payment\n",
            "___________________________\n",
            " 5.500%            ₦44,095.66\n",
            " 5.625%            ₦44,151.83\n",
            " 5.750%            ₦44,208.05\n",
            " 5.875%            ₦44,264.31\n",
            " 6.000%            ₦44,320.61\n",
            " 6.125%            ₦44,376.96\n",
            " 6.250%            ₦44,433.34\n",
            " 6.375%            ₦44,489.78\n",
            " 6.500%            ₦44,546.25\n"
          ]
        }
      ]
    },
    {
      "cell_type": "code",
      "source": [
        "terms = list(range(180,361,60))\n",
        "terms"
      ],
      "metadata": {
        "colab": {
          "base_uri": "https://localhost:8080/"
        },
        "id": "6m6U27fYg5cs",
        "outputId": "680122a2-cb00-4379-8668-385cf53cc9ae"
      },
      "execution_count": null,
      "outputs": [
        {
          "output_type": "execute_result",
          "data": {
            "text/plain": [
              "[180, 240, 300, 360]"
            ]
          },
          "metadata": {},
          "execution_count": 6
        }
      ]
    },
    {
      "cell_type": "code",
      "source": [
        "# we want to se if we borrow the same amount of oney for a different amount of time.\n",
        "# Mortgage loans are usually between 15-30 years with increments of 5 years.\n",
        "pmts = npf.pmt(rate / 1200, terms, -loan_amount)\n",
        "pmts\n",
        "print(f\"{'Term':23}{'Payment'}\")\n",
        "print(\"-\" * 5)\n",
        "for term in range(len(terms)):\n",
        "    term_str = f\"{terms[term] // 12} years\"\n",
        "    print(f\"{term_str:23}{pmts[term]:,.2f}\")\n",
        "    "
      ],
      "metadata": {
        "colab": {
          "base_uri": "https://localhost:8080/"
        },
        "id": "XOG_tmVsdlCa",
        "outputId": "d09e9d21-b77e-48bd-945b-40bfee4635b3"
      },
      "execution_count": null,
      "outputs": [
        {
          "output_type": "stream",
          "name": "stdout",
          "text": [
            "Term                   Payment\n",
            "-----\n",
            "15 years               8,438.57\n",
            "20 years               7,164.31\n",
            "25 years               6,443.01\n",
            "30 years               5,995.51\n"
          ]
        }
      ]
    }
  ]
}